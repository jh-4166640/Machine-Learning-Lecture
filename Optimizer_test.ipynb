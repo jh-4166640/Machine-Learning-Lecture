{
  "nbformat": 4,
  "nbformat_minor": 0,
  "metadata": {
    "colab": {
      "provenance": [],
      "gpuType": "T4",
      "authorship_tag": "ABX9TyPpQ2m5/wm6fPAHn0ozYZ56",
      "include_colab_link": true
    },
    "kernelspec": {
      "name": "python3",
      "display_name": "Python 3"
    },
    "language_info": {
      "name": "python"
    },
    "accelerator": "GPU"
  },
  "cells": [
    {
      "cell_type": "markdown",
      "metadata": {
        "id": "view-in-github",
        "colab_type": "text"
      },
      "source": [
        "<a href=\"https://colab.research.google.com/github/jh-4166640/Machine-Learning-Lecture/blob/main/Optimizer_test.ipynb\" target=\"_parent\"><img src=\"https://colab.research.google.com/assets/colab-badge.svg\" alt=\"Open In Colab\"/></a>"
      ]
    },
    {
      "cell_type": "code",
      "source": [
        "!pip install tensorflow\n",
        "!pip install numpy\n",
        "!pip install matplotlib\n",
        "!pip install pandas"
      ],
      "metadata": {
        "collapsed": true,
        "id": "zqYyUmCz5AO1"
      },
      "execution_count": null,
      "outputs": []
    },
    {
      "cell_type": "code",
      "source": [
        "import tensorflow.keras as keras\n",
        "import numpy as np\n",
        "import matplotlib.pyplot as plt\n",
        "import pandas as pd\n",
        "from tensorflow.keras.layers import Normalization, Input, Dense\n",
        "\n",
        "(x_train,y_train),(x_test,y_test) = keras.datasets.mnist.load_data()\n",
        "x_train = x_train.astype('float32') / 255.0\n",
        "x_test  = x_test.astype('float32') / 255.0"
      ],
      "metadata": {
        "id": "Yl8-c-iU5qy_"
      },
      "execution_count": 164,
      "outputs": []
    },
    {
      "cell_type": "code",
      "metadata": {
        "id": "c4SEqwPj6A1U"
      },
      "source": [
        "model = keras.models.Sequential([\n",
        "\n",
        "    keras.layers.Dense(units=128,activation='relu'),\n",
        "    keras.layers.Dense(units=64,activation='relu'),\n",
        "    keras.layers.Dense(units=32,activation='relu'),\n",
        "    keras.layers.Dense(units=outputClass, activation='softmax')\n",
        "])\n"
      ],
      "execution_count": 165,
      "outputs": []
    },
    {
      "cell_type": "markdown",
      "source": [
        "normal **SGD** optimizer"
      ],
      "metadata": {
        "id": "lZ_XOboGCrzk"
      }
    },
    {
      "cell_type": "code",
      "source": [
        "optimizer=keras.optimizers.SGD(learning_rate=0.005,momentum=0.0)\n",
        "figTitle = \"Optimizer = Normal SGD(learning rate=\"+str(0.005)+\")\""
      ],
      "metadata": {
        "id": "yGJKFHN37bwS"
      },
      "execution_count": 128,
      "outputs": []
    },
    {
      "cell_type": "markdown",
      "source": [
        "**Momentum** optimizer"
      ],
      "metadata": {
        "id": "MRqxZlZuCxFM"
      }
    },
    {
      "cell_type": "code",
      "source": [
        "momentum_val = 0.1\n",
        "optimizer=keras.optimizers.SGD(learning_rate=0.005,momentum=momentum_val)\n",
        "figTitle = \"Optimizer = Momentum(momentum=\"+str(momentum_val)+\")\""
      ],
      "metadata": {
        "id": "oBSAwKYgCxFM"
      },
      "execution_count": 143,
      "outputs": []
    },
    {
      "cell_type": "markdown",
      "source": [
        "**NAG** optimizer"
      ],
      "metadata": {
        "id": "Sv4s69d_Dazb"
      }
    },
    {
      "cell_type": "code",
      "source": [
        "momentum_val = 0.9\n",
        "optimizer=keras.optimizers.SGD(learning_rate=0.005,momentum=momentum_val,nesterov=True)\n",
        "figTitle = \"Optimizer = NAG(momentum=\"+str(momentum_val)+\")\""
      ],
      "metadata": {
        "id": "sXgjbEleBdFR"
      },
      "execution_count": 148,
      "outputs": []
    },
    {
      "cell_type": "markdown",
      "source": [
        "**Adagrad** Optimizer"
      ],
      "metadata": {
        "id": "JrIas9XvD_j4"
      }
    },
    {
      "cell_type": "code",
      "source": [
        "init_accmulator_val = 0.01\n",
        "optimizer=keras.optimizers.Adagrad(learning_rate=0.001,initial_accumulator_value=init_accmulator_val,epsilon=1e-07,)\n",
        "figTitle = \"Optimizer = Adagrad(initial_accumulator_value=\"+str(init_accmulator_val)+\")\""
      ],
      "metadata": {
        "id": "JKAMzOtaBdIo"
      },
      "execution_count": 155,
      "outputs": []
    },
    {
      "cell_type": "markdown",
      "source": [
        "**RMSProp** Optimizer"
      ],
      "metadata": {
        "id": "kpNgyNcjEoQp"
      }
    },
    {
      "cell_type": "code",
      "source": [
        "rho = 0.9\n",
        "optimizer=keras.optimizers.RMSprop(learning_rate=0.001,rho=rho,epsilon=1e-07,centered=False)\n",
        "figTitle = \"Optimizer = RMSprop(rho=\"+str(rho)+\")\""
      ],
      "metadata": {
        "id": "kY3EiCXvBdLf"
      },
      "execution_count": 161,
      "outputs": []
    },
    {
      "cell_type": "markdown",
      "source": [
        "**Adam** Optimizer"
      ],
      "metadata": {
        "id": "x2lZhQWqfAi8"
      }
    },
    {
      "cell_type": "code",
      "source": [
        "momentum = 0.9\n",
        "size = 0.999\n",
        "optimizer=keras.optimizers.Adam(learning_rate=0.001,beta_1=momentum,beta_2=size,epsilon=1e-07,amsgrad=False)\n",
        "figTitle = \"Optimizer = Adam(beta_1=\"+str(momentum)+\",beta_2=\"+str(size)+\")\""
      ],
      "metadata": {
        "id": "H4Q-ooKGe-kL"
      },
      "execution_count": 166,
      "outputs": []
    },
    {
      "cell_type": "code",
      "source": [
        "model.compile(optimizer=optimizer, loss='sparse_categorical_crossentropy', metrics=['accuracy'])\n",
        "#history = model.fit(x_train, y_train,batch_size=32, epochs=30, validation_data=(x_test, y_test))\n",
        "history = model.fit(\n",
        "   x_train.reshape(-1, 28*28),\n",
        "   y_train,\n",
        "   batch_size=32,\n",
        "   epochs=30,\n",
        "   validation_data=(x_test.reshape(-1, 28*28), y_test)\n",
        ")"
      ],
      "metadata": {
        "colab": {
          "base_uri": "https://localhost:8080/"
        },
        "id": "oxHBp49y8kSw",
        "outputId": "6ece449c-bdfa-437c-95d3-0ecd09647468"
      },
      "execution_count": 162,
      "outputs": [
        {
          "output_type": "stream",
          "name": "stdout",
          "text": [
            "Epoch 1/30\n",
            "\u001b[1m1875/1875\u001b[0m \u001b[32m━━━━━━━━━━━━━━━━━━━━\u001b[0m\u001b[37m\u001b[0m \u001b[1m8s\u001b[0m 3ms/step - accuracy: 0.8740 - loss: 0.4215 - val_accuracy: 0.9635 - val_loss: 0.1204\n",
            "Epoch 2/30\n",
            "\u001b[1m1875/1875\u001b[0m \u001b[32m━━━━━━━━━━━━━━━━━━━━\u001b[0m\u001b[37m\u001b[0m \u001b[1m4s\u001b[0m 2ms/step - accuracy: 0.9674 - loss: 0.1116 - val_accuracy: 0.9616 - val_loss: 0.1236\n",
            "Epoch 3/30\n",
            "\u001b[1m1875/1875\u001b[0m \u001b[32m━━━━━━━━━━━━━━━━━━━━\u001b[0m\u001b[37m\u001b[0m \u001b[1m5s\u001b[0m 3ms/step - accuracy: 0.9763 - loss: 0.0789 - val_accuracy: 0.9746 - val_loss: 0.0899\n",
            "Epoch 4/30\n",
            "\u001b[1m1875/1875\u001b[0m \u001b[32m━━━━━━━━━━━━━━━━━━━━\u001b[0m\u001b[37m\u001b[0m \u001b[1m5s\u001b[0m 2ms/step - accuracy: 0.9813 - loss: 0.0623 - val_accuracy: 0.9742 - val_loss: 0.0968\n",
            "Epoch 5/30\n",
            "\u001b[1m1875/1875\u001b[0m \u001b[32m━━━━━━━━━━━━━━━━━━━━\u001b[0m\u001b[37m\u001b[0m \u001b[1m5s\u001b[0m 3ms/step - accuracy: 0.9840 - loss: 0.0547 - val_accuracy: 0.9725 - val_loss: 0.1021\n",
            "Epoch 6/30\n",
            "\u001b[1m1875/1875\u001b[0m \u001b[32m━━━━━━━━━━━━━━━━━━━━\u001b[0m\u001b[37m\u001b[0m \u001b[1m5s\u001b[0m 2ms/step - accuracy: 0.9875 - loss: 0.0424 - val_accuracy: 0.9775 - val_loss: 0.1032\n",
            "Epoch 7/30\n",
            "\u001b[1m1875/1875\u001b[0m \u001b[32m━━━━━━━━━━━━━━━━━━━━\u001b[0m\u001b[37m\u001b[0m \u001b[1m4s\u001b[0m 2ms/step - accuracy: 0.9895 - loss: 0.0371 - val_accuracy: 0.9757 - val_loss: 0.1041\n",
            "Epoch 8/30\n",
            "\u001b[1m1875/1875\u001b[0m \u001b[32m━━━━━━━━━━━━━━━━━━━━\u001b[0m\u001b[37m\u001b[0m \u001b[1m5s\u001b[0m 3ms/step - accuracy: 0.9903 - loss: 0.0354 - val_accuracy: 0.9740 - val_loss: 0.1225\n",
            "Epoch 9/30\n",
            "\u001b[1m1875/1875\u001b[0m \u001b[32m━━━━━━━━━━━━━━━━━━━━\u001b[0m\u001b[37m\u001b[0m \u001b[1m5s\u001b[0m 2ms/step - accuracy: 0.9914 - loss: 0.0326 - val_accuracy: 0.9731 - val_loss: 0.1415\n",
            "Epoch 10/30\n",
            "\u001b[1m1875/1875\u001b[0m \u001b[32m━━━━━━━━━━━━━━━━━━━━\u001b[0m\u001b[37m\u001b[0m \u001b[1m6s\u001b[0m 3ms/step - accuracy: 0.9923 - loss: 0.0272 - val_accuracy: 0.9767 - val_loss: 0.1230\n",
            "Epoch 11/30\n",
            "\u001b[1m1875/1875\u001b[0m \u001b[32m━━━━━━━━━━━━━━━━━━━━\u001b[0m\u001b[37m\u001b[0m \u001b[1m5s\u001b[0m 2ms/step - accuracy: 0.9934 - loss: 0.0207 - val_accuracy: 0.9795 - val_loss: 0.1144\n",
            "Epoch 12/30\n",
            "\u001b[1m1875/1875\u001b[0m \u001b[32m━━━━━━━━━━━━━━━━━━━━\u001b[0m\u001b[37m\u001b[0m \u001b[1m5s\u001b[0m 3ms/step - accuracy: 0.9944 - loss: 0.0185 - val_accuracy: 0.9775 - val_loss: 0.1303\n",
            "Epoch 13/30\n",
            "\u001b[1m1875/1875\u001b[0m \u001b[32m━━━━━━━━━━━━━━━━━━━━\u001b[0m\u001b[37m\u001b[0m \u001b[1m5s\u001b[0m 3ms/step - accuracy: 0.9950 - loss: 0.0173 - val_accuracy: 0.9775 - val_loss: 0.1531\n",
            "Epoch 14/30\n",
            "\u001b[1m1875/1875\u001b[0m \u001b[32m━━━━━━━━━━━━━━━━━━━━\u001b[0m\u001b[37m\u001b[0m \u001b[1m5s\u001b[0m 3ms/step - accuracy: 0.9953 - loss: 0.0163 - val_accuracy: 0.9793 - val_loss: 0.1407\n",
            "Epoch 15/30\n",
            "\u001b[1m1875/1875\u001b[0m \u001b[32m━━━━━━━━━━━━━━━━━━━━\u001b[0m\u001b[37m\u001b[0m \u001b[1m6s\u001b[0m 3ms/step - accuracy: 0.9957 - loss: 0.0154 - val_accuracy: 0.9790 - val_loss: 0.1516\n",
            "Epoch 16/30\n",
            "\u001b[1m1875/1875\u001b[0m \u001b[32m━━━━━━━━━━━━━━━━━━━━\u001b[0m\u001b[37m\u001b[0m \u001b[1m5s\u001b[0m 3ms/step - accuracy: 0.9954 - loss: 0.0160 - val_accuracy: 0.9777 - val_loss: 0.1657\n",
            "Epoch 17/30\n",
            "\u001b[1m1875/1875\u001b[0m \u001b[32m━━━━━━━━━━━━━━━━━━━━\u001b[0m\u001b[37m\u001b[0m \u001b[1m6s\u001b[0m 3ms/step - accuracy: 0.9959 - loss: 0.0147 - val_accuracy: 0.9785 - val_loss: 0.1609\n",
            "Epoch 18/30\n",
            "\u001b[1m1875/1875\u001b[0m \u001b[32m━━━━━━━━━━━━━━━━━━━━\u001b[0m\u001b[37m\u001b[0m \u001b[1m5s\u001b[0m 3ms/step - accuracy: 0.9962 - loss: 0.0142 - val_accuracy: 0.9785 - val_loss: 0.1859\n",
            "Epoch 19/30\n",
            "\u001b[1m1875/1875\u001b[0m \u001b[32m━━━━━━━━━━━━━━━━━━━━\u001b[0m\u001b[37m\u001b[0m \u001b[1m6s\u001b[0m 3ms/step - accuracy: 0.9963 - loss: 0.0120 - val_accuracy: 0.9752 - val_loss: 0.2003\n",
            "Epoch 20/30\n",
            "\u001b[1m1875/1875\u001b[0m \u001b[32m━━━━━━━━━━━━━━━━━━━━\u001b[0m\u001b[37m\u001b[0m \u001b[1m5s\u001b[0m 3ms/step - accuracy: 0.9974 - loss: 0.0103 - val_accuracy: 0.9793 - val_loss: 0.1888\n",
            "Epoch 21/30\n",
            "\u001b[1m1875/1875\u001b[0m \u001b[32m━━━━━━━━━━━━━━━━━━━━\u001b[0m\u001b[37m\u001b[0m \u001b[1m5s\u001b[0m 3ms/step - accuracy: 0.9969 - loss: 0.0107 - val_accuracy: 0.9789 - val_loss: 0.1897\n",
            "Epoch 22/30\n",
            "\u001b[1m1875/1875\u001b[0m \u001b[32m━━━━━━━━━━━━━━━━━━━━\u001b[0m\u001b[37m\u001b[0m \u001b[1m7s\u001b[0m 3ms/step - accuracy: 0.9977 - loss: 0.0080 - val_accuracy: 0.9791 - val_loss: 0.2018\n",
            "Epoch 23/30\n",
            "\u001b[1m1875/1875\u001b[0m \u001b[32m━━━━━━━━━━━━━━━━━━━━\u001b[0m\u001b[37m\u001b[0m \u001b[1m5s\u001b[0m 3ms/step - accuracy: 0.9974 - loss: 0.0092 - val_accuracy: 0.9777 - val_loss: 0.2034\n",
            "Epoch 24/30\n",
            "\u001b[1m1875/1875\u001b[0m \u001b[32m━━━━━━━━━━━━━━━━━━━━\u001b[0m\u001b[37m\u001b[0m \u001b[1m6s\u001b[0m 3ms/step - accuracy: 0.9976 - loss: 0.0090 - val_accuracy: 0.9790 - val_loss: 0.1863\n",
            "Epoch 25/30\n",
            "\u001b[1m1875/1875\u001b[0m \u001b[32m━━━━━━━━━━━━━━━━━━━━\u001b[0m\u001b[37m\u001b[0m \u001b[1m5s\u001b[0m 3ms/step - accuracy: 0.9980 - loss: 0.0083 - val_accuracy: 0.9780 - val_loss: 0.2096\n",
            "Epoch 26/30\n",
            "\u001b[1m1875/1875\u001b[0m \u001b[32m━━━━━━━━━━━━━━━━━━━━\u001b[0m\u001b[37m\u001b[0m \u001b[1m5s\u001b[0m 3ms/step - accuracy: 0.9980 - loss: 0.0068 - val_accuracy: 0.9783 - val_loss: 0.2284\n",
            "Epoch 27/30\n",
            "\u001b[1m1875/1875\u001b[0m \u001b[32m━━━━━━━━━━━━━━━━━━━━\u001b[0m\u001b[37m\u001b[0m \u001b[1m5s\u001b[0m 3ms/step - accuracy: 0.9985 - loss: 0.0059 - val_accuracy: 0.9782 - val_loss: 0.2362\n",
            "Epoch 28/30\n",
            "\u001b[1m1875/1875\u001b[0m \u001b[32m━━━━━━━━━━━━━━━━━━━━\u001b[0m\u001b[37m\u001b[0m \u001b[1m5s\u001b[0m 3ms/step - accuracy: 0.9985 - loss: 0.0052 - val_accuracy: 0.9793 - val_loss: 0.2184\n",
            "Epoch 29/30\n",
            "\u001b[1m1875/1875\u001b[0m \u001b[32m━━━━━━━━━━━━━━━━━━━━\u001b[0m\u001b[37m\u001b[0m \u001b[1m6s\u001b[0m 3ms/step - accuracy: 0.9988 - loss: 0.0045 - val_accuracy: 0.9773 - val_loss: 0.2422\n",
            "Epoch 30/30\n",
            "\u001b[1m1875/1875\u001b[0m \u001b[32m━━━━━━━━━━━━━━━━━━━━\u001b[0m\u001b[37m\u001b[0m \u001b[1m5s\u001b[0m 3ms/step - accuracy: 0.9988 - loss: 0.0055 - val_accuracy: 0.9791 - val_loss: 0.2348\n"
          ]
        }
      ]
    },
    {
      "cell_type": "code",
      "source": [
        "pd.DataFrame(history.history).plot()\n",
        "plt.grid(True)\n",
        "plt.gca().set_ylim(0.001)\n",
        "plt.title(figTitle,fontsize=22)\n",
        "plt.xlabel('Epochs',fontsize=18)\n",
        "plt.show()\n"
      ],
      "metadata": {
        "colab": {
          "base_uri": "https://localhost:8080/",
          "height": 491
        },
        "id": "8mh_SfBk__op",
        "outputId": "4298f997-b4d6-483a-abd9-fba5bbf5f8da"
      },
      "execution_count": 163,
      "outputs": [
        {
          "output_type": "display_data",
          "data": {
            "text/plain": [
              "<Figure size 640x480 with 1 Axes>"
            ],
            "image/png": "[encoded data removed]"
          },
          "metadata": {}
        }
      ]
    }
  ]
}