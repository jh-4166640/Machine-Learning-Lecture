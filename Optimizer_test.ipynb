{
  "nbformat": 4,
  "nbformat_minor": 0,
  "metadata": {
    "colab": {
      "provenance": [],
      "gpuType": "T4",
      "authorship_tag": "ABX9TyNYCs41tEEgqkwpkccWNDk9",
      "include_colab_link": true
    },
    "kernelspec": {
      "name": "python3",
      "display_name": "Python 3"
    },
    "language_info": {
      "name": "python"
    },
    "accelerator": "GPU"
  },
  "cells": [
    {
      "cell_type": "markdown",
      "metadata": {
        "id": "view-in-github",
        "colab_type": "text"
      },
      "source": [
        "<a href=\"https://colab.research.google.com/github/jh-4166640/Machine-Learning-Lecture/blob/main/Optimizer_test.ipynb\" target=\"_parent\"><img src=\"https://colab.research.google.com/assets/colab-badge.svg\" alt=\"Open In Colab\"/></a>"
      ]
    },
    {
      "cell_type": "code",
      "source": [
        "!pip install tensorflow\n",
        "!pip install numpy\n",
        "!pip install matplotlib\n",
        "!pip install pandas"
      ],
      "metadata": {
        "collapsed": true,
        "id": "zqYyUmCz5AO1"
      },
      "execution_count": null,
      "outputs": []
    },
    {
      "cell_type": "code",
      "source": [
        "import tensorflow.keras as keras\n",
        "import numpy as np\n",
        "import matplotlib.pyplot as plt\n",
        "import pandas as pd\n",
        "from tensorflow.keras.layers import Normalization, Input, Dense\n",
        "\n",
        "(x_train,y_train),(x_test,y_test) = keras.datasets.mnist.load_data()\n",
        "x_train = x_train.astype('float32') / 255.0\n",
        "x_test  = x_test.astype('float32') / 255.0"
      ],
      "metadata": {
        "id": "Yl8-c-iU5qy_"
      },
      "execution_count": 146,
      "outputs": []
    },
    {
      "cell_type": "code",
      "metadata": {
        "id": "c4SEqwPj6A1U"
      },
      "source": [
        "model = keras.models.Sequential([\n",
        "\n",
        "    keras.layers.Dense(units=128,activation='relu'),\n",
        "    keras.layers.Dense(units=64,activation='relu'),\n",
        "    keras.layers.Dense(units=32,activation='relu'),\n",
        "    keras.layers.Dense(units=outputClass, activation='softmax')\n",
        "])\n"
      ],
      "execution_count": 147,
      "outputs": []
    },
    {
      "cell_type": "markdown",
      "source": [
        "normal **SGD** optimizer"
      ],
      "metadata": {
        "id": "lZ_XOboGCrzk"
      }
    },
    {
      "cell_type": "code",
      "source": [
        "optimizer=keras.optimizers.SGD(learning_rate=0.005,momentum=0.0)\n",
        "figTitle = \"Optimizer = Normal SGD(learning rate=\"+str(0.005)+\")\""
      ],
      "metadata": {
        "id": "yGJKFHN37bwS"
      },
      "execution_count": 128,
      "outputs": []
    },
    {
      "cell_type": "markdown",
      "source": [
        "**Momentum** optimizer"
      ],
      "metadata": {
        "id": "MRqxZlZuCxFM"
      }
    },
    {
      "cell_type": "code",
      "source": [
        "momentum_val = 0.1\n",
        "optimizer=keras.optimizers.SGD(learning_rate=0.005,momentum=momentum_val)\n",
        "figTitle = \"Optimizer = Momentum(momentum=\"+str(momentum_val)+\")\""
      ],
      "metadata": {
        "id": "oBSAwKYgCxFM"
      },
      "execution_count": 143,
      "outputs": []
    },
    {
      "cell_type": "markdown",
      "source": [
        "**NAG** optimizer"
      ],
      "metadata": {
        "id": "Sv4s69d_Dazb"
      }
    },
    {
      "cell_type": "code",
      "source": [
        "momentum_val = 0.9\n",
        "optimizer=keras.optimizers.SGD(learning_rate=0.005,momentum=momentum_val,nesterov=True)\n",
        "figTitle = \"Optimizer = NAG(momentum=\"+str(momentum_val)+\")\""
      ],
      "metadata": {
        "id": "sXgjbEleBdFR"
      },
      "execution_count": 148,
      "outputs": []
    },
    {
      "cell_type": "markdown",
      "source": [
        "**Adagrad** Optimizer"
      ],
      "metadata": {
        "id": "JrIas9XvD_j4"
      }
    },
    {
      "cell_type": "code",
      "source": [
        "init_accmulator_val = 0.01\n",
        "optimizer=keras.optimizers.Adagrad(learning_rate=0.001,initial_accumulator_value=init_accmulator_val,epsilon=1e-07,)\n",
        "figTitle = \"Optimizer = Adagrad(initial_accumulator_value=\"+str(init_accmulator_val)+\")\""
      ],
      "metadata": {
        "id": "JKAMzOtaBdIo"
      },
      "execution_count": null,
      "outputs": []
    },
    {
      "cell_type": "markdown",
      "source": [
        "**RMSProp** Optimizer"
      ],
      "metadata": {
        "id": "kpNgyNcjEoQp"
      }
    },
    {
      "cell_type": "code",
      "source": [
        "rho = 0.9\n",
        "optimizer=keras.optimizers.RMSprop(learning_rate=0.001,rho=rho,epsilon=1e-07,centered=False)\n",
        "figTitle = \"Optimizer = RMSprop(rho=\"+str(rho)+\")\""
      ],
      "metadata": {
        "id": "kY3EiCXvBdLf"
      },
      "execution_count": null,
      "outputs": []
    },
    {
      "cell_type": "code",
      "source": [
        "model.compile(optimizer=optimizer, loss='sparse_categorical_crossentropy', metrics=['accuracy'])\n",
        "#history = model.fit(x_train, y_train,batch_size=32, epochs=30, validation_data=(x_test, y_test))\n",
        "history = model.fit(\n",
        "   x_train.reshape(-1, 28*28),\n",
        "   y_train,\n",
        "   batch_size=32,\n",
        "   epochs=30,\n",
        "   validation_data=(x_test.reshape(-1, 28*28), y_test)\n",
        ")"
      ],
      "metadata": {
        "colab": {
          "base_uri": "https://localhost:8080/"
        },
        "id": "oxHBp49y8kSw",
        "outputId": "9b25cb64-841e-419e-c8cd-9e3345289217"
      },
      "execution_count": 149,
      "outputs": [
        {
          "output_type": "stream",
          "name": "stdout",
          "text": [
            "Epoch 1/30\n",
            "\u001b[1m1875/1875\u001b[0m \u001b[32m━━━━━━━━━━━━━━━━━━━━\u001b[0m\u001b[37m\u001b[0m \u001b[1m8s\u001b[0m 3ms/step - accuracy: 0.7927 - loss: 0.6567 - val_accuracy: 0.9461 - val_loss: 0.1749\n",
            "Epoch 2/30\n",
            "\u001b[1m1875/1875\u001b[0m \u001b[32m━━━━━━━━━━━━━━━━━━━━\u001b[0m\u001b[37m\u001b[0m \u001b[1m5s\u001b[0m 2ms/step - accuracy: 0.9561 - loss: 0.1460 - val_accuracy: 0.9667 - val_loss: 0.1107\n",
            "Epoch 3/30\n",
            "\u001b[1m1875/1875\u001b[0m \u001b[32m━━━━━━━━━━━━━━━━━━━━\u001b[0m\u001b[37m\u001b[0m \u001b[1m5s\u001b[0m 3ms/step - accuracy: 0.9699 - loss: 0.1012 - val_accuracy: 0.9687 - val_loss: 0.1026\n",
            "Epoch 4/30\n",
            "\u001b[1m1875/1875\u001b[0m \u001b[32m━━━━━━━━━━━━━━━━━━━━\u001b[0m\u001b[37m\u001b[0m \u001b[1m5s\u001b[0m 3ms/step - accuracy: 0.9784 - loss: 0.0733 - val_accuracy: 0.9683 - val_loss: 0.0986\n",
            "Epoch 5/30\n",
            "\u001b[1m1875/1875\u001b[0m \u001b[32m━━━━━━━━━━━━━━━━━━━━\u001b[0m\u001b[37m\u001b[0m \u001b[1m5s\u001b[0m 2ms/step - accuracy: 0.9820 - loss: 0.0587 - val_accuracy: 0.9774 - val_loss: 0.0747\n",
            "Epoch 6/30\n",
            "\u001b[1m1875/1875\u001b[0m \u001b[32m━━━━━━━━━━━━━━━━━━━━\u001b[0m\u001b[37m\u001b[0m \u001b[1m5s\u001b[0m 3ms/step - accuracy: 0.9862 - loss: 0.0467 - val_accuracy: 0.9763 - val_loss: 0.0797\n",
            "Epoch 7/30\n",
            "\u001b[1m1875/1875\u001b[0m \u001b[32m━━━━━━━━━━━━━━━━━━━━\u001b[0m\u001b[37m\u001b[0m \u001b[1m5s\u001b[0m 3ms/step - accuracy: 0.9887 - loss: 0.0386 - val_accuracy: 0.9752 - val_loss: 0.0830\n",
            "Epoch 8/30\n",
            "\u001b[1m1875/1875\u001b[0m \u001b[32m━━━━━━━━━━━━━━━━━━━━\u001b[0m\u001b[37m\u001b[0m \u001b[1m5s\u001b[0m 3ms/step - accuracy: 0.9910 - loss: 0.0289 - val_accuracy: 0.9760 - val_loss: 0.0839\n",
            "Epoch 9/30\n",
            "\u001b[1m1875/1875\u001b[0m \u001b[32m━━━━━━━━━━━━━━━━━━━━\u001b[0m\u001b[37m\u001b[0m \u001b[1m5s\u001b[0m 3ms/step - accuracy: 0.9933 - loss: 0.0238 - val_accuracy: 0.9742 - val_loss: 0.0915\n",
            "Epoch 10/30\n",
            "\u001b[1m1875/1875\u001b[0m \u001b[32m━━━━━━━━━━━━━━━━━━━━\u001b[0m\u001b[37m\u001b[0m \u001b[1m5s\u001b[0m 2ms/step - accuracy: 0.9936 - loss: 0.0207 - val_accuracy: 0.9771 - val_loss: 0.0786\n",
            "Epoch 11/30\n",
            "\u001b[1m1875/1875\u001b[0m \u001b[32m━━━━━━━━━━━━━━━━━━━━\u001b[0m\u001b[37m\u001b[0m \u001b[1m5s\u001b[0m 3ms/step - accuracy: 0.9948 - loss: 0.0168 - val_accuracy: 0.9799 - val_loss: 0.0783\n",
            "Epoch 12/30\n",
            "\u001b[1m1875/1875\u001b[0m \u001b[32m━━━━━━━━━━━━━━━━━━━━\u001b[0m\u001b[37m\u001b[0m \u001b[1m5s\u001b[0m 2ms/step - accuracy: 0.9956 - loss: 0.0153 - val_accuracy: 0.9799 - val_loss: 0.0806\n",
            "Epoch 13/30\n",
            "\u001b[1m1875/1875\u001b[0m \u001b[32m━━━━━━━━━━━━━━━━━━━━\u001b[0m\u001b[37m\u001b[0m \u001b[1m5s\u001b[0m 3ms/step - accuracy: 0.9968 - loss: 0.0124 - val_accuracy: 0.9782 - val_loss: 0.0860\n",
            "Epoch 14/30\n",
            "\u001b[1m1875/1875\u001b[0m \u001b[32m━━━━━━━━━━━━━━━━━━━━\u001b[0m\u001b[37m\u001b[0m \u001b[1m5s\u001b[0m 3ms/step - accuracy: 0.9976 - loss: 0.0078 - val_accuracy: 0.9789 - val_loss: 0.0826\n",
            "Epoch 15/30\n",
            "\u001b[1m1875/1875\u001b[0m \u001b[32m━━━━━━━━━━━━━━━━━━━━\u001b[0m\u001b[37m\u001b[0m \u001b[1m5s\u001b[0m 2ms/step - accuracy: 0.9975 - loss: 0.0082 - val_accuracy: 0.9803 - val_loss: 0.0806\n",
            "Epoch 16/30\n",
            "\u001b[1m1875/1875\u001b[0m \u001b[32m━━━━━━━━━━━━━━━━━━━━\u001b[0m\u001b[37m\u001b[0m \u001b[1m5s\u001b[0m 3ms/step - accuracy: 0.9988 - loss: 0.0054 - val_accuracy: 0.9773 - val_loss: 0.1015\n",
            "Epoch 17/30\n",
            "\u001b[1m1875/1875\u001b[0m \u001b[32m━━━━━━━━━━━━━━━━━━━━\u001b[0m\u001b[37m\u001b[0m \u001b[1m5s\u001b[0m 2ms/step - accuracy: 0.9986 - loss: 0.0056 - val_accuracy: 0.9788 - val_loss: 0.0926\n",
            "Epoch 18/30\n",
            "\u001b[1m1875/1875\u001b[0m \u001b[32m━━━━━━━━━━━━━━━━━━━━\u001b[0m\u001b[37m\u001b[0m \u001b[1m5s\u001b[0m 3ms/step - accuracy: 0.9995 - loss: 0.0028 - val_accuracy: 0.9808 - val_loss: 0.0836\n",
            "Epoch 19/30\n",
            "\u001b[1m1875/1875\u001b[0m \u001b[32m━━━━━━━━━━━━━━━━━━━━\u001b[0m\u001b[37m\u001b[0m \u001b[1m5s\u001b[0m 2ms/step - accuracy: 0.9998 - loss: 0.0018 - val_accuracy: 0.9808 - val_loss: 0.0838\n",
            "Epoch 20/30\n",
            "\u001b[1m1875/1875\u001b[0m \u001b[32m━━━━━━━━━━━━━━━━━━━━\u001b[0m\u001b[37m\u001b[0m \u001b[1m5s\u001b[0m 2ms/step - accuracy: 1.0000 - loss: 8.3792e-04 - val_accuracy: 0.9805 - val_loss: 0.0837\n",
            "Epoch 21/30\n",
            "\u001b[1m1875/1875\u001b[0m \u001b[32m━━━━━━━━━━━━━━━━━━━━\u001b[0m\u001b[37m\u001b[0m \u001b[1m5s\u001b[0m 3ms/step - accuracy: 1.0000 - loss: 6.0845e-04 - val_accuracy: 0.9812 - val_loss: 0.0844\n",
            "Epoch 22/30\n",
            "\u001b[1m1875/1875\u001b[0m \u001b[32m━━━━━━━━━━━━━━━━━━━━\u001b[0m\u001b[37m\u001b[0m \u001b[1m5s\u001b[0m 2ms/step - accuracy: 1.0000 - loss: 5.1016e-04 - val_accuracy: 0.9815 - val_loss: 0.0866\n",
            "Epoch 23/30\n",
            "\u001b[1m1875/1875\u001b[0m \u001b[32m━━━━━━━━━━━━━━━━━━━━\u001b[0m\u001b[37m\u001b[0m \u001b[1m5s\u001b[0m 3ms/step - accuracy: 1.0000 - loss: 4.7099e-04 - val_accuracy: 0.9811 - val_loss: 0.0862\n",
            "Epoch 24/30\n",
            "\u001b[1m1875/1875\u001b[0m \u001b[32m━━━━━━━━━━━━━━━━━━━━\u001b[0m\u001b[37m\u001b[0m \u001b[1m5s\u001b[0m 3ms/step - accuracy: 1.0000 - loss: 4.1483e-04 - val_accuracy: 0.9812 - val_loss: 0.0889\n",
            "Epoch 25/30\n",
            "\u001b[1m1875/1875\u001b[0m \u001b[32m━━━━━━━━━━━━━━━━━━━━\u001b[0m\u001b[37m\u001b[0m \u001b[1m5s\u001b[0m 2ms/step - accuracy: 0.9999 - loss: 5.9585e-04 - val_accuracy: 0.9811 - val_loss: 0.0879\n",
            "Epoch 26/30\n",
            "\u001b[1m1875/1875\u001b[0m \u001b[32m━━━━━━━━━━━━━━━━━━━━\u001b[0m\u001b[37m\u001b[0m \u001b[1m5s\u001b[0m 3ms/step - accuracy: 1.0000 - loss: 3.5007e-04 - val_accuracy: 0.9809 - val_loss: 0.0894\n",
            "Epoch 27/30\n",
            "\u001b[1m1875/1875\u001b[0m \u001b[32m━━━━━━━━━━━━━━━━━━━━\u001b[0m\u001b[37m\u001b[0m \u001b[1m5s\u001b[0m 2ms/step - accuracy: 1.0000 - loss: 3.2028e-04 - val_accuracy: 0.9812 - val_loss: 0.0896\n",
            "Epoch 28/30\n",
            "\u001b[1m1875/1875\u001b[0m \u001b[32m━━━━━━━━━━━━━━━━━━━━\u001b[0m\u001b[37m\u001b[0m \u001b[1m5s\u001b[0m 3ms/step - accuracy: 1.0000 - loss: 2.9839e-04 - val_accuracy: 0.9811 - val_loss: 0.0906\n",
            "Epoch 29/30\n",
            "\u001b[1m1875/1875\u001b[0m \u001b[32m━━━━━━━━━━━━━━━━━━━━\u001b[0m\u001b[37m\u001b[0m \u001b[1m5s\u001b[0m 2ms/step - accuracy: 1.0000 - loss: 2.7850e-04 - val_accuracy: 0.9812 - val_loss: 0.0914\n",
            "Epoch 30/30\n",
            "\u001b[1m1875/1875\u001b[0m \u001b[32m━━━━━━━━━━━━━━━━━━━━\u001b[0m\u001b[37m\u001b[0m \u001b[1m5s\u001b[0m 2ms/step - accuracy: 1.0000 - loss: 2.4384e-04 - val_accuracy: 0.9810 - val_loss: 0.0916\n"
          ]
        }
      ]
    },
    {
      "cell_type": "code",
      "source": [
        "pd.DataFrame(history.history).plot()\n",
        "plt.grid(True)\n",
        "plt.gca().set_ylim(0.001)\n",
        "plt.title(figTitle,fontsize=22)\n",
        "plt.xlabel('Epochs',fontsize=18)\n",
        "plt.show()\n"
      ],
      "metadata": {
        "colab": {
          "base_uri": "https://localhost:8080/",
          "height": 491
        },
        "id": "8mh_SfBk__op",
        "outputId": "6eacc59b-89c4-4bfe-bb7f-b677817b9d21"
      },
      "execution_count": 150,
      "outputs": [
        {
          "output_type": "display_data",
          "data": {
            "text/plain": [
              "<Figure size 640x480 with 1 Axes>"
            ],
            "image/png": "[encoded data removed]"
          },
          "metadata": {}
        }
      ]
    }
  ]
}